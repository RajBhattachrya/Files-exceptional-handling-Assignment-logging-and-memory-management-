{
  "nbformat": 4,
  "nbformat_minor": 0,
  "metadata": {
    "colab": {
      "provenance": []
    },
    "kernelspec": {
      "name": "python3",
      "display_name": "Python 3"
    },
    "language_info": {
      "name": "python"
    }
  },
  "cells": [
    {
      "cell_type": "markdown",
      "source": [
        "**1.What is the difference between interpreted and compiled languages?**\n",
        "\n",
        "ans-\n",
        "* Interpreted Languages:\n",
        "\n",
        " *  Execution: Code is read and executed line by line by an interpreter.\n",
        " - Speed: Typically slower during runtime as it executes code on the fly.\n",
        " - Examples: Python, JavaScript, PHP.\n",
        " - Use Case: Good for scripting, prototyping, or when you need platform independence.\n",
        "\n",
        "* Compiled Languages:\n",
        "\n",
        " - Execution: Code is first converted into machine language (via a compiler) before execution.\n",
        " - Speed: Faster during runtime since the code is already pre-compiled.\n",
        " - Examples: C, C++, Rust.\n",
        " - Use Case: Ideal for performance-critical applications or system programming.\n",
        "\n",
        "\n",
        "\n",
        "\n",
        "\n"
      ],
      "metadata": {
        "id": "lNi2o91BypdP"
      }
    },
    {
      "cell_type": "markdown",
      "source": [
        "**2.What is exception handling in Python?**\n",
        "\n",
        "ans- Exception handling in Python is a way to manage and respond to runtime errors in your code gracefully. Instead of letting your program crash when an error occurs, exception handling allows you to catch and handle these errors, ensuring the program can recover or provide meaningful feedback.\n"
      ],
      "metadata": {
        "id": "tHnixC1tyq87"
      }
    },
    {
      "cell_type": "markdown",
      "source": [
        "**3.What is the purpose of the finally block in exception handling?**\n",
        "\n",
        "ans-The finally block in exception handling is used to ensure that specific code is executed no matter what happens—whether an exception is raised or not. It’s often used for cleanup activities or final actions that must occur regardless of the program's outcome."
      ],
      "metadata": {
        "id": "BivOB0MD1Ha2"
      }
    },
    {
      "cell_type": "markdown",
      "source": [
        "**4.What is logging in Python?**\n",
        "\n",
        "ans- Logging in Python is a way to record events, errors, or other messages that occur while a program is running. It's particularly useful for debugging, tracking application behavior, and monitoring in production environments. The logging module in Python provides a flexible and efficient way to handle this.\n"
      ],
      "metadata": {
        "id": "l3-JJUho2U2C"
      }
    },
    {
      "cell_type": "markdown",
      "source": [
        "**5.What is the significance of the __del__ method in Python?**\n",
        "\n",
        "ans- The __del__ method in Python is a special method, also known as a destructor, that is automatically called when an object is about to be destroyed. It is particularly significant for performing cleanup tasks, such as releasing resources or closing file handles, before the object is removed from memory.\n"
      ],
      "metadata": {
        "id": "6WCdMsbn3JW5"
      }
    },
    {
      "cell_type": "markdown",
      "source": [
        "**6.What is the difference between import and from ... import in Python?**\n",
        "\n",
        "ans-\n",
        "* import :\n",
        "\n",
        "When you use import, the entire module is brought into your program, and you reference its contents using the module's name as a prefix.\n",
        "\n",
        "* from ... import :\n",
        "\n",
        "This allows you to import specific components (like functions, classes, or variables) from a module directly into your program, making them available without the module name prefix."
      ],
      "metadata": {
        "id": "77Iz0KHzGt5Y"
      }
    },
    {
      "cell_type": "markdown",
      "source": [
        "**7.How can you handle multiple exceptions in Python**\n",
        "\n",
        "ans- In Python, you can handle multiple exceptions using a try block followed by multiple except clauses, or by grouping exceptions together.\n"
      ],
      "metadata": {
        "id": "mQjcdhqEGuVH"
      }
    },
    {
      "cell_type": "markdown",
      "source": [
        "**8.What is the purpose of the with statement when handling files in Python**\n",
        "\n",
        "ans- The \"with\" statement in Python is used to simplify and enhance the management of resources, such as files, by ensuring that they are properly closed after their usage. When handling files, the primary purpose of \"with\" is to manage the file's lifecycle automatically—opening it, processing it, and then closing it—without requiring you to explicitly call \"file.close()\".\n"
      ],
      "metadata": {
        "id": "F6VRH8WWGvI9"
      }
    },
    {
      "cell_type": "markdown",
      "source": [
        "**9.What is the difference between multithreading and multiprocessing**\n",
        "\n",
        "ans-\n",
        "1. Execution Units:\n",
        "- Multithreading: Uses multiple threads within a single process. Threads share the same memory space and resources of the process.\n",
        "- Multiprocessing: Uses multiple processes, where each process has its own memory space and resources.\n",
        "\n",
        "2. Concurrency:\n",
        "- Multithreading: Suitable for I/O-bound tasks (e.g., reading/writing files or network requests) because threads can switch while waiting for input/output operations.\n",
        "- Multiprocessing: Best for CPU-bound tasks (e.g., computations, data processing) as multiple processes can utilize multiple CPU cores effectively.\n",
        "\n",
        "3. Memory Usage:\n",
        "- Multithreading: Threads share memory, so it is more memory-efficient but may face issues like race conditions or deadlocks.\n",
        "- Multiprocessing: Each process has its own memory, so it avoids memory sharing issues but consumes more memory.\n",
        "\n",
        "5. Performance:\n",
        "- Multithreading: Good for improving responsiveness of programs that rely on waiting for input/output operations.\n",
        "- Multiprocessing: Better for performance-intensive tasks that require parallel computation.\n",
        "\n",
        "\n",
        "\n",
        "\n",
        "\n",
        "\n",
        "\n",
        "\n",
        "\n",
        "\n"
      ],
      "metadata": {
        "id": "_HK8r2M1GvuN"
      }
    },
    {
      "cell_type": "markdown",
      "source": [
        "**10.What are the advantages of using logging in a program0**\n",
        "\n",
        "ans-\n",
        "1. Easier Debugging:\n",
        "Logging provides valuable insights into a program's execution flow, making it easier to track down bugs or unexpected behavior. Unlike print statements, logs can include timestamps, severity levels, and other contextual information.\n",
        "\n",
        "2. Levels of Importance:\n",
        "Logging allows categorization of messages (e.g., DEBUG, INFO, WARNING, ERROR, CRITICAL). This helps in filtering messages based on their importance and context during runtime.\n",
        "\n",
        "3. Persistent Records:\n",
        "Logs can be saved to files, databases, or monitoring systems. These records are invaluable for diagnosing issues in production environments, especially for long-running or distributed systems.\n",
        "4. Improved Maintainability:\n",
        "By using structured logging, you can consistently document important events and behaviors, making it easier for others (or even yourself) to understand and maintain the codebase.\n",
        "5. Thread and Process Safety:\n",
        "Python’s logging module is thread-safe and can manage logs even in multithreading or multiprocessing scenarios, avoiding conflicts and lost messages.\n",
        "\n",
        " etc"
      ],
      "metadata": {
        "id": "kkV1ZILW8H2w"
      }
    },
    {
      "cell_type": "markdown",
      "source": [
        "**11.What is memory management in Python?**\n",
        "\n",
        "ans- Memory management in Python refers to how the language handles the allocation, use, and deallocation of memory for objects and variables during the program's execution. Python has an automatic and efficient memory management system, which means that developers don't usually need to worry about manual memory management"
      ],
      "metadata": {
        "id": "S1Ij9h3j8xRJ"
      }
    },
    {
      "cell_type": "markdown",
      "source": [
        "**12.What are the basic steps involved in exception handling in Python?**\n",
        "\n",
        "ans-\n",
        "1. Use try block:\n",
        " * Wrap the code that might raise an exception inside a try block.\n",
        "2. Use except block:\n",
        " * Catch and handle the exception using an except block.\n",
        "\n",
        " * You can catch specific exceptions or use a general one.\n",
        "3. Optionally use else block:\n",
        " * This block runs if no exception is raised in the try block.\n",
        "4. Optionally use finally block:\n",
        " * This block always runs, no matter what—useful for cleanup actions."
      ],
      "metadata": {
        "id": "KYxqDSutBPtL"
      }
    },
    {
      "cell_type": "markdown",
      "source": [
        "**13.F Why is memory management important in Python?**\n",
        "\n",
        "ans-\n",
        "1. Efficient Use of Resources:\n",
        "Memory management ensures that system resources are utilized effectively. By freeing up unused or unreachable memory, Python prevents excessive consumption, which could otherwise lead to slower execution or crashes.\n",
        "2. Avoiding Memory Leaks:\n",
        "Improper handling of memory can result in memory leaks, where allocated memory is never released back to the system. Python's built-in garbage collection helps minimize these risks, maintaining the program's stability.\n",
        "3. Supporting Scalability:\n",
        "Efficient memory management is crucial for applications that need to handle large-scale data or run for extended periods. Proper memory allocation and deallocation allow programs to scale gracefully without running out of system resources.\n",
        "3. Supporting Scalability:\n",
        "Efficient memory management is crucial for applications that need to handle large-scale data or run for extended periods. Proper memory allocation and deallocation allow programs to scale gracefully without running out of system resources.\n",
        "4. Error Prevention:\n",
        "By managing memory automatically, Python reduces the risk of common errors such as dangling pointers or segmentation faults, which are more likely to occur in languages where manual memory management is required.\n",
        "\n",
        "etc\n"
      ],
      "metadata": {
        "id": "93xVYprLCUEy"
      }
    },
    {
      "cell_type": "markdown",
      "source": [
        "**14.What is the role of try and except in exception handling?**\n",
        "\n",
        "ans- The try and except blocks are the foundation of exception handling in Python. Their main role is to help you gracefully manage and recover from runtime errors, preventing your program from crashing unexpectedly.\n"
      ],
      "metadata": {
        "id": "hFSyoP4oCUfy"
      }
    },
    {
      "cell_type": "markdown",
      "source": [
        "**15.How does Python's garbage collection system work?**\n",
        "\n",
        "ans-Python's garbage collection system is a mechanism to automatically manage memory by reclaiming unused or unreachable objects in a program. It ensures efficient memory use without requiring developers to manually deallocate memory."
      ],
      "metadata": {
        "id": "4lRjwZpHCU1a"
      }
    },
    {
      "cell_type": "markdown",
      "source": [
        "**16.What is the purpose of the else block in exception handling?**\n",
        "\n",
        "ans-In exception handling, the else block is a way to define code that should only execute when no exception occurs in the try block. It provides a clear distinction between what is considered \"successful\" code execution and the handling of exceptions. Here's how it fits in:\n",
        "- try Block: Contains the code that might raise exceptions.\n",
        "- except Block(s): Handles specific or general exceptions if they occur.\n",
        "- else Block: Executes only if no exceptions are raised in the try block.\n",
        "- finally Block (if used): Runs regardless of whether an exception occurs, for cleanup tasks.\n",
        "\n",
        "\n"
      ],
      "metadata": {
        "id": "7x3gOKkLCVCo"
      }
    },
    {
      "cell_type": "markdown",
      "source": [
        "**17.What are the common logging levels in Python?**\n",
        "\n",
        "ans- The common logging levels are:\n",
        "- DEBUG: For detailed diagnostic information, typically used for troubleshooting during development.- Example: Logging variable values or program state.\n",
        "\n",
        "- INFO: For general information about program execution, such as milestones or key actions.- Example: \"Server started on port 8080.\"\n",
        "\n",
        "- WARNING: For indicating something unexpected, but not severe enough to stop the program.- Example: \"Disk space running low.\"\n",
        "\n",
        "- ERROR: For reporting errors that have occurred, which might still allow the program to continue.- Example: \"Failed to connect to the database.\"\n",
        "\n",
        "- CRITICAL: For serious errors that could lead to program failure.- Example: \"System is out of memory.\"\n",
        "\n",
        "\n",
        "\n"
      ],
      "metadata": {
        "id": "PjEBRqqKCVYv"
      }
    },
    {
      "cell_type": "markdown",
      "source": [
        "**18.What is the difference between os.fork() and multiprocessing in Python**\n",
        "\n",
        "ans-\n",
        "1. os.fork()\n",
        "- Functionality: os.fork() is a low-level system call that creates a child process by duplicating the current process.\n",
        "- Platform: Only available on Unix-based systems (e.g., Linux, macOS). It doesn't work on Windows.\n",
        "- Usage: It's used in scenarios where you want direct control over process creation. After forking, the child process runs a copy of the parent process's code. You need to manage communication between process explicitly.\n",
        "\n",
        "\n",
        "2. multiprocessing Module\n",
        "- Functionality: multiprocessing is a high-level module for process-based parallelism. It abstracts away many details of process creation and inter-process communication, making it easier to work with.\n",
        "- Platform: Works across all platforms, including Windows.\n",
        "- Usage: Designed for creating and managing processes for parallel execution. It provides features like sharing data, queues, and process pools, which simplify communication and coordination.\n",
        "\n",
        "\n"
      ],
      "metadata": {
        "id": "Dof9Yo19CV9Q"
      }
    },
    {
      "cell_type": "markdown",
      "source": [
        "**19.What is the importance of closing a file in Python**\n",
        "\n",
        "ans-Closing a file in Python is an essential step when working with file I/O (input/output), as it ensures proper resource management and prevents potential errors or data loss. Here's why it's important:\n",
        "1. Releasing System Resources\n",
        " - When you open a file, the operating system allocates resources like memory and file handles to it. Closing the file releases these resources, making them available for other processes.\n",
        " - If too many files are left open without being closed, it can lead to resource exhaustion and runtime errors.\n",
        "\n",
        "2. Flushing Data\n",
        " - When writing to a file, data may be buffered (stored temporarily in memory). Closing the file ensures that all buffered data is written (flushed) to the file, preventing data loss or incomplete writes.\n",
        "\n",
        "3. Preventing File Locking\n",
        " - Some operating systems lock a file while it's open, preventing other programs from accessing it. Closing the file removes the lock, allowing other processes to use it.\n",
        "\n",
        "4. Avoiding Errors\n",
        " - Open files can lead to unexpected behavior, such as corrupted data or issues when attempting to reopen the file later in the program.\n",
        "\n",
        "\n"
      ],
      "metadata": {
        "id": "HKEpfjQhrBUj"
      }
    },
    {
      "cell_type": "markdown",
      "source": [
        "**20.What is the difference between file.read() and file.readline() in Python?**\n",
        "\n",
        "ans-\n",
        "1. file.read()\n",
        " - Functionality: Reads the entire file (or a specified number of characters) at once and returns it as a single string.\n",
        " - Use Case: Ideal for scenarios where you want to process the whole file content at once or when dealing with small files\n",
        "\n",
        "\n",
        "2. file.readline()\n",
        " - Functionality: Reads only one line from the file at a time and returns it as a string.\n",
        " - Use Case: Useful when you want to process the file line by line, especially for large files where reading the whole content at once might not be efficient\n",
        "\n"
      ],
      "metadata": {
        "id": "GuBPqkvxrBkY"
      }
    },
    {
      "cell_type": "markdown",
      "source": [
        "**21.What is the logging module in Python used for?**\n",
        "\n",
        "ans- Key Uses of the logging Module:\n",
        "- Debugging:- Helps track the flow of code and pinpoint issues by logging debug messages during development.\n",
        "\n",
        "- Monitoring:- Records important events (e.g., server startup, database access) to understand how the application is behaving.\n",
        "\n",
        "- Error Reporting:- Captures warnings and error messages to identify and resolve runtime issues effectively.\n",
        "\n",
        "- Audit Trails:- Maintains logs for actions or operations in applications for security or analysis purposes.\n",
        "\n",
        "\n",
        "\n"
      ],
      "metadata": {
        "id": "NBei19TsrByY"
      }
    },
    {
      "cell_type": "markdown",
      "source": [
        "**22.What is the os module in Python used for in file handling?**\n",
        "\n",
        "ans-Here are some common uses of the os module in file handling:\n",
        "1. File and Directory Operations\n",
        "- Creating/Removing Files: You can use functions like os.remove() to delete a file.\n",
        "- Listing Directory Contents: Retrieve file and folder names using os.listdir().\n",
        "- Renaming Files: Use os.rename() to change the name of a file or directory.\n",
        "- Creating/Deleting Directories: Use os.mkdir() to create a directory and os.rmdir() to remove it.\n",
        "\n",
        "2. Path Handling\n",
        "- Join Paths: Combine directory and file names using os.path.join() for platform-independent paths.\n",
        "- Check File Existence: Use os.path.exists() to check if a file or directory exists.\n",
        "- Get Absolute Path: Retrieve the absolute path of a file or directory using os.path.abspath().\n",
        "\n",
        "3. File Attributes\n",
        "- Access file properties like size (os.path.getsize()) or modification time (os.path.getmtime()).\n",
        "\n",
        "\n",
        "\n",
        "\n"
      ],
      "metadata": {
        "id": "nvvns_hQrCMG"
      }
    },
    {
      "cell_type": "markdown",
      "source": [
        "**23.What are the challenges associated with memory management in Python?**\n",
        "\n",
        "ans-1. Garbage Collection and Performance\n",
        "- While Python's garbage collector automates memory cleanup, it can sometimes affect performance. Periodic garbage collection can lead to pauses in execution, especially in programs requiring real-time responsiveness.\n",
        "\n",
        "2. Memory Leaks\n",
        "- Memory leaks can still occur in Python, often due to objects being referenced indefinitely (e.g., circular references or global variables). This prevents the garbage collector from reclaiming memory and may cause excessive memory consumption.\n",
        "\n",
        "3. Overhead of Dynamic Typing\n",
        "- Python's dynamic typing and object-oriented nature create additional memory overhead. For example, an integer in Python is stored as an object, which takes up more memory compared to primitive types in languages like C.\n",
        "\n",
        "4. Large Data Structures\n",
        "- Managing large datasets or data structures (like lists, dictionaries) in memory can be challenging. Excessive memory usage can lead to memory fragmentation and slowdowns.\n",
        "\n",
        "etc\n",
        "\n"
      ],
      "metadata": {
        "id": "PXeOliLErCdu"
      }
    },
    {
      "cell_type": "markdown",
      "source": [
        "**24.How do you raise an exception manually in Python?**\n",
        "\n",
        "ans-In Python, you can manually raise an exception using the raise keyword. This allows you to interrupt the normal flow of the program and signal that something has gone wrong or requires special handling. You can raise built-in exceptions or define your own custom exceptions.\n"
      ],
      "metadata": {
        "id": "aBLnT7c4tKed"
      }
    },
    {
      "cell_type": "markdown",
      "source": [
        "**25.Why is it important to use multithreading in certain applications?**\n",
        "\n",
        "ans-Here are some key reasons why multithreading is beneficial:\n",
        "1. Improved Performance\n",
        "- Multithreading enables multiple threads to run simultaneously, utilizing idle CPU cores effectively. For compute-intensive tasks, splitting work across threads can significantly reduce execution time.\n",
        "\n",
        "2. Responsiveness\n",
        "- Applications with user interfaces (e.g., GUI applications) benefit from multithreading because they can perform background tasks (like data processing) without freezing the interface. This ensures smooth user interaction.\n",
        "\n",
        "3. Parallelism\n",
        "- In situations requiring tasks like data analysis, rendering graphics, or running simulations, multithreading allows different parts of the task to execute in parallel, boosting efficiency.\n",
        "\n",
        "4. Efficient Resource Utilization\n",
        "- Multithreading allows applications to make better use of system resources by balancing workloads across processor cores. This is especially useful on systems with multiple CPUs.\n",
        "\n",
        "5. Handling I/O-bound Tasks\n",
        "- Threads can be used to overlap I/O operations (e.g., reading files or network communication) with other tasks, allowing programs to continue running while waiting for I/O operations to complete.\n",
        "\n",
        "\n"
      ],
      "metadata": {
        "id": "EBZmL9TwtK2F"
      }
    },
    {
      "cell_type": "markdown",
      "source": [
        "# Practical Questions"
      ],
      "metadata": {
        "id": "YirGMK6XC0al"
      }
    },
    {
      "cell_type": "markdown",
      "source": [
        "**1.How can you open a file for writing in Python and write a string to it?**"
      ],
      "metadata": {
        "id": "iLk55B0SC52M"
      }
    },
    {
      "cell_type": "code",
      "source": [
        "# open a file for writing\n",
        "file = open(\"file.txt\",'w')\n",
        "\n",
        "# write a string to the file\n",
        "file.write(\"This is my first line.\")"
      ],
      "metadata": {
        "colab": {
          "base_uri": "https://localhost:8080/"
        },
        "id": "RuVc31AzDET2",
        "outputId": "65cdbfd2-c828-41d2-b365-77bf59253d6a"
      },
      "execution_count": null,
      "outputs": [
        {
          "output_type": "execute_result",
          "data": {
            "text/plain": [
              "22"
            ]
          },
          "metadata": {},
          "execution_count": 1
        }
      ]
    },
    {
      "cell_type": "markdown",
      "source": [
        "**2.Write a Python program to read the contents of a file and print each line**"
      ],
      "metadata": {
        "id": "bXZGhIEiFCnY"
      }
    },
    {
      "cell_type": "code",
      "source": [
        "# Open the file in read mode\n",
        "file = open(\"file.txt\",'r')\n",
        "\n",
        "# Iterate through each line in the file\n",
        "for i in file:\n",
        "    print(i) # print the line"
      ],
      "metadata": {
        "id": "y5Vrk-GwEt1N"
      },
      "execution_count": null,
      "outputs": []
    },
    {
      "cell_type": "markdown",
      "source": [
        "**3.How would you handle a case where the file doesn't exist while trying to open it for reading**"
      ],
      "metadata": {
        "id": "y4A_RVqIGU91"
      }
    },
    {
      "cell_type": "code",
      "source": [
        "try:\n",
        "    with open(\"examole.txt\",\"r\")as file:\n",
        "        for line in file :\n",
        "            print(line.strip())\n",
        "except Exception as e:\n",
        "    print(e)"
      ],
      "metadata": {
        "id": "LAz0KhyAGgt9",
        "colab": {
          "base_uri": "https://localhost:8080/"
        },
        "outputId": "1a71f4fc-ed3b-4af4-f452-129a8652d481"
      },
      "execution_count": null,
      "outputs": [
        {
          "output_type": "stream",
          "name": "stdout",
          "text": [
            "[Errno 2] No such file or directory: 'examole.txt'\n"
          ]
        }
      ]
    },
    {
      "cell_type": "markdown",
      "source": [
        "**4.Write a Python script that reads from one file and writes its content to another file**"
      ],
      "metadata": {
        "id": "aAAKW5zlKorN"
      }
    },
    {
      "cell_type": "code",
      "source": [
        "source_file = \"source.txt\"\n",
        "destination_file = \"destination.txt\"\n",
        "\n",
        "try:\n",
        "# Read from the source file\n",
        "    with open (\"source.txt\",\"r\") as source:\n",
        "        content = source.read()\n",
        "\n",
        "# Write to the destination file\n",
        "    with open (\"destination.txt\",\"w\") as destination:\n",
        "        content = destination.write()\n",
        "\n",
        "    print(\"File content copied successfully!\")\n",
        "\n",
        "\n",
        "except Exception as e:\n",
        "    print(e)\n"
      ],
      "metadata": {
        "id": "KdfZ01jqYxV9"
      },
      "execution_count": null,
      "outputs": []
    },
    {
      "cell_type": "markdown",
      "source": [
        "**5.How would you catch and handle division by zero error in Python**"
      ],
      "metadata": {
        "id": "u5sMKFCQQ_8L"
      }
    },
    {
      "cell_type": "code",
      "source": [
        "try:\n",
        "    # Perform division\n",
        "    Result = (6/0)\n",
        "    print(f\"Result{Result}\")\n",
        "\n",
        "except ZeroDivisionError as e:\n",
        "    # Handle division by zero\n",
        "    print(f\"Error: division is not possible due to {e}\")"
      ],
      "metadata": {
        "colab": {
          "base_uri": "https://localhost:8080/"
        },
        "id": "hkA7bZ_RQ-qe",
        "outputId": "1ded128b-f5cd-4891-efbf-8a2fd1dd0760"
      },
      "execution_count": null,
      "outputs": [
        {
          "output_type": "stream",
          "name": "stdout",
          "text": [
            "Error: division is not possible due to division by zero\n"
          ]
        }
      ]
    },
    {
      "cell_type": "markdown",
      "source": [
        "**6.Write a Python program that logs an error message to a log file when a division by zero exception occurs**"
      ],
      "metadata": {
        "id": "dRdKb880fr6V"
      }
    },
    {
      "cell_type": "code",
      "source": [
        "\n",
        "import logging\n",
        "\n",
        "# Configure the logging settings\n",
        "logging.basicConfig(\n",
        "    filename=\"error_log.txt\",  # Log file name\n",
        "    level=logging.ERROR,       # Log level\n",
        "    format=\"%(asctime)s - %(levelname)s - %(message)s\"  # Log message format\n",
        ")\n",
        "\n",
        "try:\n",
        "    # Attempt a division operation\n",
        "    numerator = 10\n",
        "    denominator = 0\n",
        "    result = numerator / denominator  # This will raise ZeroDivisionError\n",
        "    print(f\"The result is: {result}\")\n",
        "\n",
        "except ZeroDivisionError as e:\n",
        "    # Log the error message to the file\n",
        "    logging.error(\"Division by zero attempted. Error: %s\", e)\n",
        "    print(\"An error occurred. Please check the log file for details.\")\n",
        "\n",
        "except Exception as e:\n",
        "    # Handle any other unexpected exceptions\n",
        "    logging.error(\"An unexpected error occurred. Error: %s\", e)\n",
        "    print(\"An unexpected error occurred. Please check the log file for details.\")"
      ],
      "metadata": {
        "colab": {
          "base_uri": "https://localhost:8080/"
        },
        "id": "ZoOxw-kjfxZk",
        "outputId": "4c368571-9004-4f4f-eaf7-552dbc435f41"
      },
      "execution_count": null,
      "outputs": [
        {
          "output_type": "stream",
          "name": "stderr",
          "text": [
            "ERROR:root:Division by zero attempted. Error: division by zero\n"
          ]
        },
        {
          "output_type": "stream",
          "name": "stdout",
          "text": [
            "An error occurred. Please check the log file for details.\n"
          ]
        }
      ]
    },
    {
      "cell_type": "markdown",
      "source": [
        "**7.How do you log information at different levels (INFO, ERROR, WARNING) in Python using the logging module**"
      ],
      "metadata": {
        "id": "xQTUW5I_iXvf"
      }
    },
    {
      "cell_type": "code",
      "source": [
        "import logging\n",
        "\n",
        "# Configure logging settings\n",
        "logging.basicConfig(\n",
        "    filename=\"app_log.txt\",  # File where logs will be stored\n",
        "    level=logging.DEBUG,     # Set the lowest level of logging (DEBUG and above)\n",
        "    format=\"%(asctime)s - %(levelname)s - %(message)s\"  # Log message format\n",
        ")\n",
        "\n",
        "# Log messages at different levels\n",
        "logging.debug(\"This is a DEBUG message - useful for diagnosing issues.\")\n",
        "logging.info(\"This is an INFO message - general information.\")\n",
        "logging.warning(\"This is a WARNING message - something unexpected happened.\")\n",
        "logging.error(\"This is an ERROR message - an error occurred but the program is still running.\")\n",
        "logging.critical(\"This is a CRITICAL message - a serious error that may require the program to stop.\")"
      ],
      "metadata": {
        "colab": {
          "base_uri": "https://localhost:8080/"
        },
        "id": "iN0bopmliYjG",
        "outputId": "5135c86a-c9d9-4774-bf87-9d0dca07fad7"
      },
      "execution_count": null,
      "outputs": [
        {
          "output_type": "stream",
          "name": "stderr",
          "text": [
            "WARNING:root:This is a WARNING message - something unexpected happened.\n",
            "ERROR:root:This is an ERROR message - an error occurred but the program is still running.\n",
            "CRITICAL:root:This is a CRITICAL message - a serious error that may require the program to stop.\n"
          ]
        }
      ]
    },
    {
      "cell_type": "markdown",
      "source": [
        "**8.Write a program to handle a file opening error using exception handling**"
      ],
      "metadata": {
        "id": "yp0dqe3MRGVY"
      }
    },
    {
      "cell_type": "code",
      "source": [
        "try:\n",
        "     # Attempt to open a file\n",
        "    file = \"example.txt\"\n",
        "    with open(\"example.txt\",\"r\") as file:\n",
        "        file.read()\n",
        "\n",
        "except FileNotFoundError as e:\n",
        "    # Handle case where the file is not found\n",
        "    print(f\"Error: {e}\")\n",
        "\n",
        "    print(f\"The file '{file}' does not exist.\")\n",
        "\n",
        "except Exception as e :\n",
        "    # Catch other unforeseen errors\n",
        "    print(f\"An unexpected error occurred: {e}\")"
      ],
      "metadata": {
        "id": "betF6M3SRGw3",
        "colab": {
          "base_uri": "https://localhost:8080/"
        },
        "outputId": "e44d351d-b217-4ef1-de70-bee190b0158c"
      },
      "execution_count": null,
      "outputs": [
        {
          "output_type": "stream",
          "name": "stdout",
          "text": [
            "Error: [Errno 2] No such file or directory: 'example.txt'\n",
            "The file 'example.txt' does not exist.\n"
          ]
        }
      ]
    },
    {
      "cell_type": "markdown",
      "source": [
        "**9.How can you read a file line by line and store its content in a list in Python**"
      ],
      "metadata": {
        "id": "OmW_zhrlYiP9"
      }
    },
    {
      "cell_type": "code",
      "source": [
        "# Open the file\n",
        "file = \"example.txt\"\n",
        "try:\n",
        "    with open(\"example.txt\", \"r\") as file:\n",
        "        # Read all lines and store them in a list\n",
        "        lines = file.readlines()\n",
        "\n",
        "    # Remove any trailing newline characters (optional)\n",
        "    lines = [line.strip() for line in lines]\n",
        "\n",
        "    print(\"Contents of the file:\")\n",
        "    print(lines)\n",
        "\n",
        "except FileNotFoundError:\n",
        "    print(f\"Error: The file '{file}' does not exist.\")\n",
        "\n",
        "except Exception as e:\n",
        "    print(f\"An unexpected error occurred: {e}\")"
      ],
      "metadata": {
        "id": "5YC-fpcwYggi"
      },
      "execution_count": null,
      "outputs": []
    },
    {
      "cell_type": "markdown",
      "source": [
        "**10.How can you append data to an existing file in Python**"
      ],
      "metadata": {
        "id": "VvZDOFeKLNtf"
      }
    },
    {
      "cell_type": "code",
      "source": [
        "# Open the file in append mode\n",
        "with open(\"example.txt\", \"a\") as file:\n",
        "    # Append data to the file\n",
        "    file.write(\"This is new data being appended.\\n\")"
      ],
      "metadata": {
        "id": "m5cxxv0fLxUr"
      },
      "execution_count": null,
      "outputs": []
    },
    {
      "cell_type": "markdown",
      "source": [
        "**11.Write a Python program that uses a try-except block to handle an error when attempting to access a\n",
        "dictionary key that doesn't exist**"
      ],
      "metadata": {
        "id": "IEVrEMOlQjAD"
      }
    },
    {
      "cell_type": "code",
      "source": [
        "try:\n",
        "    dist = {\n",
        "        \"Name\": \"Raj Bhattacharya\",\n",
        "            \"Age\" : 22,\n",
        "            \"college\": \"KBCC\"\n",
        "    }\n",
        "\n",
        "    print(dist[\"school\"])\n",
        "\n",
        "except KeyError as e :\n",
        "    print(f\"Error: The key '{e}' does not exist in the dictionary.\")\n",
        "\n",
        "\n",
        "except Exception as e:\n",
        "    print(f\"An unexpected error occurred: {e}\")\n"
      ],
      "metadata": {
        "colab": {
          "base_uri": "https://localhost:8080/"
        },
        "id": "cksr2Ab-OWYc",
        "outputId": "bd594fe5-7490-463d-def2-abff9c76e316"
      },
      "execution_count": null,
      "outputs": [
        {
          "output_type": "stream",
          "name": "stdout",
          "text": [
            "Error: The key ''school'' does not exist in the dictionary.\n"
          ]
        }
      ]
    },
    {
      "cell_type": "markdown",
      "source": [
        "**12.Write a program that demonstrates using multiple except blocks to handle different types of exceptions**"
      ],
      "metadata": {
        "id": "eQvcXejQQpnq"
      }
    },
    {
      "cell_type": "code",
      "source": [
        "try:\n",
        "    # A block of code that may raise multiple types of exceptions\n",
        "    num = int(input(\"Enter a number: \"))\n",
        "    result = 10 / num  # May raise ZeroDivisionError\n",
        "    print(f\"The result is: {result}\")\n",
        "\n",
        "    # Attempt to access a key that might not exist\n",
        "    my_dict = {\"name\": \"Alice\", \"age\": 25}\n",
        "    print(f\"Age: {my_dict['age']}\")\n",
        "    print(f\"School: {my_dict['school']}\")  # May raise KeyError\n",
        "\n",
        "except ValueError:\n",
        "    print(\"Error: You must enter a valid integer.\")\n",
        "\n",
        "except ZeroDivisionError:\n",
        "    print(\"Error: Division by zero is not allowed.\")\n",
        "\n",
        "except KeyError as e:\n",
        "    print(f\"Error: The key '{e}' does not exist in the dictionary.\")\n",
        "\n",
        "except Exception as e:\n",
        "    print(f\"An unexpected error occurred: {e}\")"
      ],
      "metadata": {
        "colab": {
          "base_uri": "https://localhost:8080/"
        },
        "id": "QG1hNTFVQhlM",
        "outputId": "6c358a67-c745-4634-90c7-c9f68bbdde05"
      },
      "execution_count": null,
      "outputs": [
        {
          "output_type": "stream",
          "name": "stdout",
          "text": [
            "Enter a number: 2\n",
            "The result is: 5.0\n",
            "Age: 25\n",
            "Error: The key ''school'' does not exist in the dictionary.\n"
          ]
        }
      ]
    },
    {
      "cell_type": "markdown",
      "source": [
        "**13.How would you check if a file exists before attempting to read it in Python**"
      ],
      "metadata": {
        "id": "WRcOo-WLivLU"
      }
    },
    {
      "cell_type": "code",
      "source": [
        "import os\n",
        "\n",
        "file_name = \"example.txt\"\n",
        "\n",
        "# Check and read the file\n",
        "if os.path.exists(file_name):\n",
        "    with open(file_name, \"r\") as file:\n",
        "        content = file.read()\n",
        "    print(\"File content:\")\n",
        "    print(content)\n",
        "else:\n",
        "    print(\"File does not exist.\")"
      ],
      "metadata": {
        "id": "I2ikaOOui3Wu"
      },
      "execution_count": null,
      "outputs": []
    },
    {
      "cell_type": "markdown",
      "source": [
        "**14.Write a program that uses the logging module to log both informational and error messages**"
      ],
      "metadata": {
        "id": "MM1a__ntj6eF"
      }
    },
    {
      "cell_type": "code",
      "source": [
        "import logging\n",
        "\n",
        "# Configure logging settings\n",
        "logging.basicConfig(\n",
        "    filename=\"app_log.txt\",  # Name of the log file\n",
        "    level=logging.DEBUG,     # Log level (logs messages of DEBUG level and above)\n",
        "    format=\"%(asctime)s - %(levelname)s - %(message)s\"  # Log format\n",
        ")\n",
        "\n",
        "# Log an informational message\n",
        "logging.info(\"Program started successfully.\")\n",
        "\n",
        "try:\n",
        "    # Simulate some operations\n",
        "    numerator = 10\n",
        "    denominator = 0\n",
        "    result = numerator / denominator  # This will raise ZeroDivisionError\n",
        "\n",
        "    logging.info(f\"The result is: {result}\")  # Log result if successful\n",
        "except ZeroDivisionError as e:\n",
        "    # Log the error message\n",
        "    logging.error(f\"Error occurred: Division by zero attempted. {e}\")\n",
        "except Exception as e:\n",
        "    # Log any other unexpected errors\n",
        "    logging.error(f\"An unexpected error occurred: {e}\")\n",
        "\n",
        "# Log an informational message indicating program end\n",
        "logging.info(\"Program finished execution.\")"
      ],
      "metadata": {
        "id": "Ky93nogkjTTh"
      },
      "execution_count": null,
      "outputs": []
    },
    {
      "cell_type": "markdown",
      "source": [
        "**15.Write a Python program that prints the content of a file and handles the case when the file is empty**"
      ],
      "metadata": {
        "id": "7PbWP50Kkh2M"
      }
    },
    {
      "cell_type": "code",
      "source": [
        "file_name = \"example.txt\" # name of the file\n",
        "\n",
        "try:\n",
        "    with open(file_name, \"r\") as file:\n",
        "        content = file.read()\n",
        "\n",
        "    if not content:  # Check if the file is empty\n",
        "        print(f\"The file '{file_name}' is empty.\")\n",
        "    else:\n",
        "        print(\"Content of the file:\")\n",
        "        print(content)\n",
        "\n",
        "except FileNotFoundError:\n",
        "    print(f\"Error: The file '{file_name}' does not exist.\")\n",
        "except Exception as e:\n",
        "    print(f\"An unexpected error occurred: {e}\")"
      ],
      "metadata": {
        "id": "LY1E7mX0kVVK"
      },
      "execution_count": null,
      "outputs": []
    },
    {
      "cell_type": "markdown",
      "source": [
        "**16.Demonstrate how to use memory profiling to check the memory usage of a small program**"
      ],
      "metadata": {
        "id": "drj2B7yETbni"
      }
    },
    {
      "cell_type": "code",
      "source": [
        "from memory_profiler import profile\n",
        "import time\n",
        "\n",
        "@profile\n",
        "def allocate_memory():\n",
        "    print(\"Allocating memory...\")\n",
        "    my_list = [i for i in range(10**6)]  # Create a large list\n",
        "    time.sleep(2)  # Simulate some processing\n",
        "    return my_list\n",
        "\n",
        "if __name__ == \"__main__\":\n",
        "    allocate_memory()"
      ],
      "metadata": {
        "id": "ZODPfUDwTkqZ"
      },
      "execution_count": null,
      "outputs": []
    },
    {
      "cell_type": "markdown",
      "source": [
        "**17.Write a Python program to create and write a list of numbers to a file, one number per line**"
      ],
      "metadata": {
        "id": "uNU8-plajvfz"
      }
    },
    {
      "cell_type": "code",
      "source": [
        "# Define the file name\n",
        "file_name = \"numbers.txt\"\n",
        "\n",
        "# Create a list of numbers\n",
        "numbers = list(range(1, 101))  # A list of numbers from 1 to 100\n",
        "\n",
        "# Open the file in write mode\n",
        "with open(file_name, \"w\") as file:\n",
        "    # Write each number to the file, one per line\n",
        "    for number in numbers:\n",
        "        file.write(f\"{number}\\n\")\n",
        "\n",
        "print(f\"Numbers written to {file_name}\")"
      ],
      "metadata": {
        "id": "tgm1JLMHkfGA",
        "colab": {
          "base_uri": "https://localhost:8080/"
        },
        "outputId": "effe6ec6-dda4-48aa-e879-51070c0f7cd1"
      },
      "execution_count": null,
      "outputs": [
        {
          "output_type": "stream",
          "name": "stdout",
          "text": [
            "Numbers written to numbers.txt\n"
          ]
        }
      ]
    },
    {
      "cell_type": "markdown",
      "source": [
        "**18.How would you implement a basic logging setup that logs to a file with rotation after 1MB**"
      ],
      "metadata": {
        "id": "BCa-DnQEPQoC"
      }
    },
    {
      "cell_type": "code",
      "source": [
        "import logging\n",
        "from logging.handlers import RotatingFileHandler\n",
        "\n",
        "# Configure the logger\n",
        "logger = logging.getLogger(\"BasicLogger\")\n",
        "logger.setLevel(logging.DEBUG)  # Set the log level\n",
        "\n",
        "# Create a RotatingFileHandler\n",
        "handler = RotatingFileHandler(\n",
        "    \"app.log\",  # File name\n",
        "    maxBytes=1 * 1024 * 1024,  # 1MB\n",
        "    backupCount=5  # Keep up to 5 backup files\n",
        ")\n",
        "\n",
        "# Define log format\n",
        "formatter = logging.Formatter(\"%(asctime)s - %(levelname)s - %(message)s\")\n",
        "handler.setFormatter(formatter)\n",
        "\n",
        "# Add handler to the logger\n",
        "logger.addHandler(handler)\n",
        "\n",
        "# Example logging\n",
        "for i in range(10000):\n",
        "    logger.debug(f\"This is log message {i}\")"
      ],
      "metadata": {
        "id": "32GH34qbPY-w"
      },
      "execution_count": null,
      "outputs": []
    },
    {
      "cell_type": "markdown",
      "source": [
        "**19.Write a program that handles both IndexError and KeyError using a try-except block**"
      ],
      "metadata": {
        "id": "2v5xIsJij0V6"
      }
    },
    {
      "cell_type": "code",
      "source": [
        "def handle_exceptions():\n",
        "    # create A list and a dictionary\n",
        "    my_list = [10, 20, 30]\n",
        "    my_dict = {\"a\": 1, \"b\": 2}\n",
        "\n",
        "    try:\n",
        "        # Attempt to access an invalid index in the list\n",
        "        print(my_list[5])  # This will raise an IndexError\n",
        "\n",
        "        # Attempt to access a non-existing key in the dictionary\n",
        "        print(my_dict[\"z\"])  # This will raise a KeyError\n",
        "\n",
        "    except IndexError as ie:\n",
        "        print(f\"IndexError occurred: {ie}\")\n",
        "\n",
        "    except KeyError as ke:\n",
        "        print(f\"KeyError occurred: {ke}\")\n",
        "\n",
        "    finally:\n",
        "        print(\"Exception handling complete!\")\n",
        "\n",
        "# Call the function\n",
        "handle_exceptions()"
      ],
      "metadata": {
        "colab": {
          "base_uri": "https://localhost:8080/"
        },
        "id": "clNPF7MUkXF2",
        "outputId": "b2111526-b024-4c47-8e61-2e1ff39767e6"
      },
      "execution_count": null,
      "outputs": [
        {
          "output_type": "stream",
          "name": "stdout",
          "text": [
            "IndexError occurred: list index out of range\n",
            "Exception handling complete!\n"
          ]
        }
      ]
    },
    {
      "cell_type": "markdown",
      "source": [
        "**20.How would you open a file and read its contents using a context manager in Python**"
      ],
      "metadata": {
        "id": "bo9cS9-gkgxF"
      }
    },
    {
      "cell_type": "code",
      "source": [
        "# Specify the file name\n",
        "file_name = \"example.txt\"\n",
        "\n",
        "# Use a context manager to open the file\n",
        "with open(file_name, \"r\") as file:  # \"r\" mode is for reading\n",
        "    # Read the contents of the file\n",
        "    contents = file.read()\n",
        "\n",
        "# Print the contents\n",
        "print(contents)"
      ],
      "metadata": {
        "id": "yBo_oFoKk6k9"
      },
      "execution_count": null,
      "outputs": []
    },
    {
      "cell_type": "markdown",
      "source": [
        "**21.Write a Python program that reads a file and prints the number of occurrences of a specific word**"
      ],
      "metadata": {
        "id": "fSW-9L3zlA1I"
      }
    },
    {
      "cell_type": "code",
      "source": [
        "def count_word_occurrences(file_name, word_to_count):\n",
        "    try:\n",
        "        # Open the file for reading\n",
        "        with open(file_name, \"r\") as file:\n",
        "            # Read the contents of the file\n",
        "            contents = file.read()\n",
        "\n",
        "        # Count the occurrences of the word\n",
        "        word_count = contents.lower().split().count(word_to_count.lower())\n",
        "\n",
        "        print(f\"The word '{word_to_count}' appears {word_count} times in the file '{file_name}'.\")\n",
        "\n",
        "    except FileNotFoundError:\n",
        "        print(f\"The file '{file_name}' does not exist.\")\n",
        "    except Exception as e:\n",
        "        print(f\"An error occurred: {e}\")\n",
        "\n",
        "# Example usage\n",
        "file_name = \"example.txt\"\n",
        "word_to_count = \"python\"\n",
        "count_word_occurrences(file_name, word_to_count)"
      ],
      "metadata": {
        "colab": {
          "base_uri": "https://localhost:8080/"
        },
        "id": "k8iUmwlslAfx",
        "outputId": "c22cb39c-f48b-4fdc-a538-bbd597e89351"
      },
      "execution_count": null,
      "outputs": [
        {
          "output_type": "stream",
          "name": "stdout",
          "text": [
            "The file 'example.txt' does not exist.\n"
          ]
        }
      ]
    },
    {
      "cell_type": "markdown",
      "source": [
        "**22.How can you check if a file is empty before attempting to read its contents**"
      ],
      "metadata": {
        "id": "LJMbRvWYml6Y"
      }
    },
    {
      "cell_type": "code",
      "source": [
        "file_name = \"example.txt\"  # Replace with your file name\n",
        "\n",
        "try:\n",
        "    with open(file_name, \"r\") as file:\n",
        "        # Check if the file is empty\n",
        "        if file.read(1):  # Reads the first character\n",
        "            print(\"The file is not empty.\")\n",
        "        else:\n",
        "            print(\"The file is empty.\")\n",
        "except FileNotFoundError:\n",
        "    print(f\"The file '{file_name}' does not exist.\")"
      ],
      "metadata": {
        "id": "d8AXZRVzm96r"
      },
      "execution_count": null,
      "outputs": []
    },
    {
      "cell_type": "markdown",
      "source": [
        "**23. Write a Python program that writes to a log file when an error occurs during file handling**"
      ],
      "metadata": {
        "id": "ECYuKTUHnY3A"
      }
    },
    {
      "cell_type": "code",
      "source": [
        "import logging\n",
        "\n",
        "# Configure logging to write to a file\n",
        "logging.basicConfig(filename=\"errors.log\", level=logging.ERROR)\n",
        "\n",
        "try:\n",
        "    # Attempt to open and read the file\n",
        "    with open(\"example.txt\", \"r\") as file:\n",
        "        contents = file.read()\n",
        "        print(contents)\n",
        "except Exception as e:\n",
        "    # Log any errors that occur\n",
        "    logging.error(f\"An error occurred: {e}\")\n",
        "    print(\"An error occurred. Check the log file for details.\")"
      ],
      "metadata": {
        "id": "Q-HfIQUOnYRz"
      },
      "execution_count": null,
      "outputs": []
    }
  ]
}